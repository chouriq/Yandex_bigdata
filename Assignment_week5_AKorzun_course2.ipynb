{
 "cells": [
  {
   "cell_type": "code",
   "execution_count": 1,
   "metadata": {},
   "outputs": [
    {
     "name": "stdout",
     "output_type": "stream",
     "text": [
      "Welcome to\n",
      "      ____              __\n",
      "     / __/__  ___ _____/ /__\n",
      "    _\\ \\/ _ \\/ _ `/ __/  '_/\n",
      "   /__ / .__/\\_,_/_/ /_/\\_\\   version 2.1.1\n",
      "      /_/\n",
      "\n",
      "Using Python version 2.7.12 (default, Nov 19 2016 06:48:10)\n",
      "SparkSession available as 'spark'.\n"
     ]
    }
   ],
   "source": [
    "import os\n",
    "execfile(os.path.join(os.environ[\"SPARK_HOME\"], 'python/pyspark/shell.py'))"
   ]
  },
  {
   "cell_type": "code",
   "execution_count": 2,
   "metadata": {},
   "outputs": [],
   "source": [
    "from pyspark.sql import SparkSession\n",
    "sparkSession = SparkSession.builder.enableHiveSupport().master(\"local [2]\").getOrCreate()"
   ]
  },
  {
   "cell_type": "code",
   "execution_count": 3,
   "metadata": {},
   "outputs": [],
   "source": [
    "data = sparkSession.read.parquet(\"/data/sample264\")\n",
    "meta = sparkSession.read.parquet(\"/data/meta\")"
   ]
  },
  {
   "cell_type": "code",
   "execution_count": 4,
   "metadata": {},
   "outputs": [],
   "source": [
    "import pyspark.sql.functions as f\n",
    "from pyspark.sql import Window"
   ]
  },
  {
   "cell_type": "code",
   "execution_count": 62,
   "metadata": {},
   "outputs": [],
   "source": [
    "window1 = Window.partitionBy(\"userId\").orderBy(\"timestamp\").rangeBetween(-420,420)"
   ]
  },
  {
   "cell_type": "code",
   "execution_count": 63,
   "metadata": {},
   "outputs": [],
   "source": [
    "similar = data.withColumn(\"similars\", f.collect_list(\"trackId\").over(window1)) \\\n",
    "              .withColumn(\"track2\", f.explode(\"similars\")) \\\n",
    "              .filter('trackId != track2') \\\n",
    "              .select(f.col('trackId').alias('track1'), 'track2') \\\n",
    "              .select((f.least(f.col('track1'),f.col('track2'))).alias('track1'),\n",
    "                      (f.greatest(f.col('track1'),f.col('track2'))).alias('track2')) \\\n",
    "              .groupBy('track1', 'track2').count().cache()"
   ]
  },
  {
   "cell_type": "code",
   "execution_count": 66,
   "metadata": {},
   "outputs": [],
   "source": [
    "window2 = Window.partitionBy(\"track1\").orderBy(f.col(\"count\").desc())\n",
    "window2_a = Window.partitionBy(\"track1\")"
   ]
  },
  {
   "cell_type": "code",
   "execution_count": 67,
   "metadata": {},
   "outputs": [],
   "source": [
    "normalized = similar.withColumn(\"row_number\", f.row_number().over(window2)) \\\n",
    "                    .filter(\"row_number<=40\") \\\n",
    "                    .withColumn(\"sum_count\", f.sum(f.col(\"count\")).over(window2_a)) \\\n",
    "                    .withColumn(\"norm_count\", f.col(\"count\")/f.col(\"sum_count\")*0.5) \\\n",
    "                    .select(\"track1\", \"track2\", \"norm_count\")"
   ]
  },
  {
   "cell_type": "code",
   "execution_count": 68,
   "metadata": {},
   "outputs": [],
   "source": [
    "result = normalized.orderBy(f.col(\"norm_count\").desc(), \"track1\", \"track2\").take(40)"
   ]
  },
  {
   "cell_type": "code",
   "execution_count": 69,
   "metadata": {},
   "outputs": [
    {
     "name": "stdout",
     "output_type": "stream",
     "text": [
      "798256 923706\n",
      "798319 837992\n",
      "798322 876562\n",
      "798331 827364\n",
      "798335 840741\n",
      "798374 816874\n",
      "798375 810685\n",
      "798379 812055\n",
      "798380 840113\n",
      "798396 817687\n",
      "798398 926302\n",
      "798405 867217\n",
      "798443 905923\n",
      "798457 918918\n",
      "798460 891840\n",
      "798461 940379\n",
      "798470 840814\n",
      "798474 963162\n",
      "798477 883244\n",
      "798485 955521\n",
      "798505 905671\n",
      "798545 949238\n",
      "798550 936295\n",
      "798626 845438\n",
      "798691 818279\n",
      "798692 898823\n",
      "798702 811440\n",
      "798704 937570\n",
      "798725 933147\n",
      "798738 894170\n",
      "798745 799665\n",
      "798782 956938\n",
      "798801 950802\n",
      "798820 890393\n",
      "798833 916319\n",
      "798865 962662\n",
      "798931 893574\n",
      "798946 946408\n",
      "799012 809997\n",
      "799024 935246\n"
     ]
    }
   ],
   "source": [
    "for row in result:\n",
    "    print '{0} {1}'.format(row[0], row[1])"
   ]
  },
  {
   "cell_type": "code",
   "execution_count": null,
   "metadata": {},
   "outputs": [],
   "source": []
  }
 ],
 "metadata": {
  "kernelspec": {
   "display_name": "Python 2",
   "language": "python",
   "name": "python2"
  },
  "language_info": {
   "codemirror_mode": {
    "name": "ipython",
    "version": 2
   },
   "file_extension": ".py",
   "mimetype": "text/x-python",
   "name": "python",
   "nbconvert_exporter": "python",
   "pygments_lexer": "ipython2",
   "version": "2.7.12"
  }
 },
 "nbformat": 4,
 "nbformat_minor": 2
}
